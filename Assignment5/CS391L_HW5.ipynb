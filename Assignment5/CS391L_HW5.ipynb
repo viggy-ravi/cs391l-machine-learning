{
 "cells": [
  {
   "cell_type": "code",
   "execution_count": 1,
   "metadata": {},
   "outputs": [],
   "source": [
    "import numpy as np\n",
    "import pprint\n",
    "import seaborn as sns\n",
    "import random\n",
    "from scipy.spatial import distance\n",
    "import matplotlib.pyplot as plt"
   ]
  },
  {
   "cell_type": "markdown",
   "metadata": {},
   "source": [
    "# Class Objects for State and Agent"
   ]
  },
  {
   "cell_type": "code",
   "execution_count": 2,
   "metadata": {},
   "outputs": [],
   "source": [
    "BOARD_ROWS = 5\n",
    "BOARD_COLS = 8\n",
    "START = (1,0)\n",
    "DETERMINISTIC = False\n",
    "\n",
    "R_obs = -1\n",
    "R_lit = 1"
   ]
  },
  {
   "cell_type": "code",
   "execution_count": 3,
   "metadata": {},
   "outputs": [
    {
     "name": "stdout",
     "output_type": "stream",
     "text": [
      "2.23606797749979\n"
     ]
    }
   ],
   "source": [
    "a = (0,0)\n",
    "b = (1,2)\n",
    "MAX_DIST = distance.euclidean(a,b)\n",
    "print(MAX_DIST)"
   ]
  },
  {
   "cell_type": "code",
   "execution_count": 28,
   "metadata": {},
   "outputs": [],
   "source": [
    "class State:\n",
    "    def __init__(self, module, state=START):\n",
    "        self.MODS = ['MOD_WALK','MOD_AVOID','MOD_PICKUP']\n",
    "        self.module = module\n",
    "        self.board = self.generateBoard()               \n",
    "        self.state = state\n",
    "        self.isEnd = False\n",
    "        self.determine = DETERMINISTIC  \n",
    "        \n",
    "    def generateBoard(self):\n",
    "        board = np.zeros([BOARD_ROWS, BOARD_COLS])\n",
    "        \n",
    "        # SIDEWALK\n",
    "        if self.module == self.MODS[0]:\n",
    "            # distination\n",
    "            board[1:BOARD_ROWS-1,BOARD_COLS-1] = 1\n",
    "            # not sidewalk\n",
    "            board[0,:] = -1\n",
    "            board[BOARD_ROWS-1,:] = -1\n",
    "        \n",
    "        n = BOARD_ROWS*BOARD_COLS\n",
    "        obj_pos = [x for x in random.sample(range(n), int(0.4*n))]\n",
    "        m = int(len(obj_pos)/2)\n",
    "                \n",
    "        # OBSTACLES\n",
    "        if self.module == self.MODS[1]:\n",
    "            obs_pos = obj_pos[0:m]\n",
    "            for pos in obs_pos:\n",
    "                # no obstacles or litter on first or last columns\n",
    "                if (pos%BOARD_COLS != 0) and (pos%BOARD_COLS != BOARD_COLS-1):\n",
    "                    board[pos//BOARD_COLS][pos%BOARD_COLS] = R_obs\n",
    "                \n",
    "        # LITTER\n",
    "        if self.module == self.MODS[2]:\n",
    "            lit_pos = obj_pos[m+1:]\n",
    "            for pos in lit_pos:\n",
    "                # no obstacles or litter on first or last columns\n",
    "                if (pos%BOARD_COLS != 0) and (pos%BOARD_COLS != BOARD_COLS-1):\n",
    "                    board[pos//BOARD_COLS][pos%BOARD_COLS] = R_lit\n",
    "                    \n",
    "        return board\n",
    "        \n",
    "    def giveReward(self):     \n",
    "        if self.module == self.MODS[0]:\n",
    "            return self.board[self.state]\n",
    "        \n",
    "        # if on object, penalize by R_obs\n",
    "        if self.board[self.state] == R_obs:\n",
    "            return R_obs\n",
    "        \n",
    "        # if on litter, reward by R_lit\n",
    "        if self.board[self.state] == R_lit:\n",
    "            return R_lit\n",
    "        \n",
    "        # else find dist of closest object\n",
    "        closest_obj = MAX_DIST\n",
    "        x = self.state[0]\n",
    "        y = self.state[1]        \n",
    "        for i in range(x-1,x+1 +1):\n",
    "            for j in range(y,y+2 +1):\n",
    "                # check if window is within boards\n",
    "                if i < 0 or i >= BOARD_ROWS or j < 0 or j >= BOARD_COLS:\n",
    "                    continue\n",
    "                \n",
    "                # check if position has object\n",
    "                if self.board[i, j] != 0:\n",
    "                    a = (i,j)\n",
    "                    dist = distance.euclidean(a,b)\n",
    "                    if dist < closest_obj:\n",
    "                        closest_obj = dist\n",
    "                \n",
    "        # 2.25 is approx the furthest distance an object can be in this window\n",
    "        if self.module == self.MODS[1]:\n",
    "            reward = min(1, closest_obj / MAX_DIST)\n",
    "        elif self.module == self.MODS[2]:\n",
    "            reward = max(0, closest_obj / MAX_DIST)\n",
    "        \n",
    "        return reward\n",
    "\n",
    "    def isEndFunc(self):\n",
    "        if self.state[1] == BOARD_COLS - 1 and self.state[0] > 0 and self.state[0] < BOARD_ROWS-1:\n",
    "            self.isEnd = True\n",
    "        if self.state == R_obs:\n",
    "            self.isEnd = True\n",
    "\n",
    "    def _chooseActionProb(self, action):\n",
    "        if action == \"up\":\n",
    "            return np.random.choice([\"up\", \"left\", \"right\"], p=[0.8, 0.1, 0.1])\n",
    "        if action == \"down\":\n",
    "            return np.random.choice([\"down\", \"left\", \"right\"], p=[0.8, 0.1, 0.1])\n",
    "        if action == \"left\":\n",
    "            return np.random.choice([\"left\", \"up\", \"down\"], p=[0.8, 0.1, 0.1])\n",
    "        if action == \"right\":\n",
    "            return np.random.choice([\"right\", \"up\", \"down\"], p=[0.8, 0.1, 0.1])\n",
    "\n",
    "    def nxtPosition(self, action):\n",
    "        if self.determine:\n",
    "            if action == \"up\":\n",
    "                nxtState = (self.state[0], self.state[1] + 1)\n",
    "            elif action == \"down\":\n",
    "                nxtState = (self.state[0], self.state[1] - 1)\n",
    "            elif action == \"left\":\n",
    "                nxtState = (self.state[0] - 1, self.state[1])\n",
    "            else:\n",
    "                nxtState = (self.state[0] + 1, self.state[1])\n",
    "            self.determine = False\n",
    "        else:\n",
    "            # non-deterministic\n",
    "            action = self._chooseActionProb(action)\n",
    "            self.determine = True\n",
    "            nxtState = self.nxtPosition(action)\n",
    "\n",
    "        # if next state is legal\n",
    "        if (nxtState[0] >= 0) and (nxtState[0] <= BOARD_ROWS-1):\n",
    "            if (nxtState[1] >= 0) and (nxtState[1] <= BOARD_COLS-1):\n",
    "                return nxtState\n",
    "        return self.state\n",
    "\n",
    "    def showBoard(self):\n",
    "        self.board[self.state] = 2\n",
    "        for i in range(0, BOARD_ROWS):\n",
    "            print('----'*BOARD_COLS + '-')\n",
    "            out = '| '\n",
    "            for j in range(0, BOARD_COLS):\n",
    "                if self.board[i, j] == 2:\n",
    "                    token = 'A'\n",
    "                if self.board[i, j] == 1:\n",
    "                    token = '1'\n",
    "                if self.board[i, j] == -1 and self.module == self.MODS[0]:\n",
    "                    token = '-'\n",
    "                if self.board[i, j] == R_obs and self.module == self.MODS[1]:\n",
    "                    token = '*'\n",
    "                if self.board[i, j] == R_lit and self.module == self.MODS[2]:\n",
    "                    token = '$'\n",
    "                if self.board[i, j] == 0:\n",
    "                    token = '0'\n",
    "                out += token + ' | '\n",
    "            print(out)\n",
    "        print('----'*BOARD_COLS + '-')"
   ]
  },
  {
   "cell_type": "code",
   "execution_count": 29,
   "metadata": {},
   "outputs": [],
   "source": [
    "class Agent:\n",
    "    def __init__(self, module, lr=0.5, epsilon=0.9):\n",
    "        self.module = module\n",
    "        self.states = []  # record position and action taken at the position\n",
    "        self.actions = [\"up\", \"down\", \"left\", \"right\"]\n",
    "        self.State = State(module=self.module)\n",
    "        self.isEnd = self.State.isEnd\n",
    "        self.lr = lr\n",
    "        self.exp_rate = 1 - epsilon\n",
    "        self.epsilon = epsilon\n",
    "        \n",
    "        # initial Q values\n",
    "        self.Q_values = {}\n",
    "        for i in range(BOARD_ROWS):\n",
    "            for j in range(BOARD_COLS):\n",
    "                self.Q_values[(i, j)] = {}\n",
    "                for a in self.actions:\n",
    "                    self.Q_values[(i, j)][a] = 0  # Q value is a dict of dict\n",
    "    \n",
    "    def chooseAction(self):\n",
    "        # choose action with most expected value\n",
    "        mx_nxt_reward = 0\n",
    "        action = \"\"\n",
    "\n",
    "        if np.random.uniform(0, 1) <= self.exp_rate:\n",
    "            action = np.random.choice(self.actions)\n",
    "        else:\n",
    "            # greedy action\n",
    "            current_position = self.State.state\n",
    "            action = max(self.Q_values[current_position])                \n",
    "#             print(\"current pos: {}, greedy aciton: {}\".format(self.State.state, action))\n",
    "        return action\n",
    "\n",
    "    def takeAction(self, action):\n",
    "        position = self.State.nxtPosition(action)\n",
    "        # update State\n",
    "        return State(module=self.module, state=position)\n",
    "\n",
    "    def reset(self):\n",
    "        self.states = []\n",
    "        self.State = State(module=self.module)\n",
    "        self.isEnd = self.State.isEnd\n",
    "\n",
    "    def play(self, rounds=10):\n",
    "        i = 0\n",
    "        while i < rounds:\n",
    "            # to the end of game back propagate reward\n",
    "            if self.State.isEnd:\n",
    "                # back propagate\n",
    "                reward = self.State.giveReward()\n",
    "                for a in self.actions:\n",
    "                    self.Q_values[self.State.state][a] = reward\n",
    "                for s in reversed(self.states):\n",
    "                    current_q_value = self.Q_values[s[0]][s[1]]\n",
    "                    reward = current_q_value + self.lr * (self.epsilon * reward - current_q_value)\n",
    "                    self.Q_values[s[0]][s[1]] = round(reward, 3)\n",
    "                self.reset()\n",
    "                i += 1\n",
    "            else:\n",
    "                action = self.chooseAction()\n",
    "                # append trace\n",
    "                self.states.append([(self.State.state), action])\n",
    "                # by taking the action, it reaches the next state\n",
    "                self.State = self.takeAction(action)\n",
    "                # mark is end\n",
    "                self.State.isEndFunc()\n",
    "                self.isEnd = self.State.isEnd\n",
    "                \n",
    "        print(f'Game End Reward {round(reward,4)}')"
   ]
  },
  {
   "cell_type": "markdown",
   "metadata": {},
   "source": [
    "# Sidewalk Module"
   ]
  },
  {
   "cell_type": "code",
   "execution_count": 141,
   "metadata": {},
   "outputs": [
    {
     "name": "stdout",
     "output_type": "stream",
     "text": [
      "(1, 0)\n",
      "---------------------------------\n",
      "| - | - | - | - | - | - | - | - | \n",
      "---------------------------------\n",
      "| A | 0 | 0 | 0 | 0 | 0 | 0 | 1 | \n",
      "---------------------------------\n",
      "| 0 | 0 | 0 | 0 | 0 | 0 | 0 | 1 | \n",
      "---------------------------------\n",
      "| 0 | 0 | 0 | 0 | 0 | 0 | 0 | 1 | \n",
      "---------------------------------\n",
      "| - | - | - | - | - | - | - | - | \n",
      "---------------------------------\n",
      "None\n"
     ]
    }
   ],
   "source": [
    "s = State(module='MOD_WALK')\n",
    "print(s.state)\n",
    "print(s.showBoard())"
   ]
  },
  {
   "cell_type": "code",
   "execution_count": 177,
   "metadata": {},
   "outputs": [
    {
     "name": "stdout",
     "output_type": "stream",
     "text": [
      "MOD_WALK\n"
     ]
    }
   ],
   "source": [
    "random.seed(8)\n",
    "sidewalk = Agent(module='MOD_WALK', lr=0.5)\n",
    "print(sidewalk.module)"
   ]
  },
  {
   "cell_type": "code",
   "execution_count": 178,
   "metadata": {
    "scrolled": true
   },
   "outputs": [
    {
     "name": "stdout",
     "output_type": "stream",
     "text": [
      "Game End Reward 0.2643\n"
     ]
    }
   ],
   "source": [
    "sidewalk.play(1000)\n",
    "final_sidewalk = sidewalk.Q_values\n",
    "# pprint.pprint(sidewalk.Q_values)"
   ]
  },
  {
   "cell_type": "code",
   "execution_count": 145,
   "metadata": {},
   "outputs": [
    {
     "data": {
      "image/png": "[encoded data removed]",
      "text/plain": [
       "<Figure size 432x288 with 2 Axes>"
      ]
     },
     "metadata": {
      "needs_background": "light"
     },
     "output_type": "display_data"
    }
   ],
   "source": [
    "hm = np.zeros([BOARD_ROWS, BOARD_COLS])\n",
    "for i in range(BOARD_ROWS):\n",
    "    for j in range(BOARD_COLS):\n",
    "        hm[i,j] = final_sidewalk[(i,j)]['right']\n",
    "        \n",
    "ax = sns.heatmap(hm)"
   ]
  },
  {
   "cell_type": "markdown",
   "metadata": {},
   "source": [
    "# Obstacles Module"
   ]
  },
  {
   "cell_type": "code",
   "execution_count": 146,
   "metadata": {
    "scrolled": true
   },
   "outputs": [
    {
     "name": "stdout",
     "output_type": "stream",
     "text": [
      "(1, 0)\n",
      "---------------------------------\n",
      "| 0 | 0 | * | 0 | 0 | * | 0 | 0 | \n",
      "---------------------------------\n",
      "| A | 0 | 0 | 0 | * | 0 | * | 0 | \n",
      "---------------------------------\n",
      "| 0 | 0 | 0 | 0 | 0 | 0 | 0 | 0 | \n",
      "---------------------------------\n",
      "| 0 | 0 | 0 | 0 | 0 | 0 | 0 | 0 | \n",
      "---------------------------------\n",
      "| 0 | 0 | 0 | 0 | * | 0 | 0 | 0 | \n",
      "---------------------------------\n",
      "None\n"
     ]
    }
   ],
   "source": [
    "random.seed(8)\n",
    "s = State(module='MOD_AVOID')\n",
    "print(s.state)\n",
    "print(s.showBoard())"
   ]
  },
  {
   "cell_type": "code",
   "execution_count": 189,
   "metadata": {},
   "outputs": [
    {
     "name": "stdout",
     "output_type": "stream",
     "text": [
      "MOD_AVOID\n"
     ]
    }
   ],
   "source": [
    "R_obs = R = -1\n",
    "rounds = 100\n",
    "m = 'MOD_AVOID'\n",
    "\n",
    "random.seed(8)\n",
    "obstacle = Agent(module=m, lr=0.5)\n",
    "print(obstacle.module)"
   ]
  },
  {
   "cell_type": "code",
   "execution_count": 190,
   "metadata": {
    "scrolled": true
   },
   "outputs": [
    {
     "name": "stdout",
     "output_type": "stream",
     "text": [
      "Game End Reward 0.2642\n"
     ]
    }
   ],
   "source": [
    "obstacle.play(rounds)\n",
    "final_obstacle = obstacle.Q_values\n",
    "# pprint.pprint(obstacle.Q_values)"
   ]
  },
  {
   "cell_type": "code",
   "execution_count": 150,
   "metadata": {
    "scrolled": true
   },
   "outputs": [
    {
     "data": {
      "image/png": "[encoded data removed]",
      "text/plain": [
       "<Figure size 432x288 with 2 Axes>"
      ]
     },
     "metadata": {
      "needs_background": "light"
     },
     "output_type": "display_data"
    }
   ],
   "source": [
    "hm = np.zeros([BOARD_ROWS, BOARD_COLS])\n",
    "for i in range(BOARD_ROWS):\n",
    "    for j in range(BOARD_COLS):\n",
    "        hm[i,j] = final_obstacle[(i,j)]['left']\n",
    "\n",
    "\n",
    "ax = sns.heatmap(hm).set_title(f'{m}: {rounds} rounds with reward {R}')"
   ]
  },
  {
   "cell_type": "markdown",
   "metadata": {},
   "source": [
    "# Litter Module"
   ]
  },
  {
   "cell_type": "code",
   "execution_count": 62,
   "metadata": {},
   "outputs": [
    {
     "name": "stdout",
     "output_type": "stream",
     "text": [
      "(1, 0)\n",
      "---------------------------------\n",
      "| 0 | 0 | 0 | 0 | 0 | 0 | $ | 0 | \n",
      "---------------------------------\n",
      "| s | 0 | 0 | 0 | 0 | 0 | 0 | 0 | \n",
      "---------------------------------\n",
      "| 0 | 0 | 0 | 0 | $ | 0 | 0 | 0 | \n",
      "---------------------------------\n",
      "| 0 | $ | 0 | 0 | 0 | 0 | 0 | 0 | \n",
      "---------------------------------\n",
      "| 0 | 0 | 0 | $ | 0 | 0 | 0 | 0 | \n",
      "---------------------------------\n",
      "None\n"
     ]
    }
   ],
   "source": [
    "random.seed(8)\n",
    "s = State(module='MOD_PICKUP')\n",
    "print(s.state)\n",
    "print(s.showBoard())"
   ]
  },
  {
   "cell_type": "code",
   "execution_count": 94,
   "metadata": {},
   "outputs": [
    {
     "name": "stdout",
     "output_type": "stream",
     "text": [
      "MOD_PICKUP\n"
     ]
    }
   ],
   "source": [
    "R_lit = R = 100\n",
    "rounds = 1000\n",
    "m = 'MOD_PICKUP'\n",
    "\n",
    "random.seed(8)\n",
    "litter = Agent(module=m)\n",
    "print(litter.module)"
   ]
  },
  {
   "cell_type": "code",
   "execution_count": null,
   "metadata": {},
   "outputs": [],
   "source": [
    "litter.play(rounds)\n",
    "final_litter = litter.Q_values"
   ]
  },
  {
   "cell_type": "code",
   "execution_count": 96,
   "metadata": {},
   "outputs": [
    {
     "data": {
      "image/png": "[encoded data removed]",
      "text/plain": [
       "<Figure size 432x288 with 2 Axes>"
      ]
     },
     "metadata": {
      "needs_background": "light"
     },
     "output_type": "display_data"
    }
   ],
   "source": [
    "hm = np.zeros([BOARD_ROWS, BOARD_COLS])\n",
    "for i in range(BOARD_ROWS):\n",
    "    for j in range(BOARD_COLS):\n",
    "        hm[i,j] = final_litter[(i,j)]['right']\n",
    "        \n",
    "ax = sns.heatmap(hm).set_title(f'{m}: {rounds} rounds with reward {R}')"
   ]
  },
  {
   "cell_type": "markdown",
   "metadata": {},
   "source": [
    "# Combined Modules"
   ]
  },
  {
   "cell_type": "code",
   "execution_count": 25,
   "metadata": {},
   "outputs": [
    {
     "data": {
      "image/png": "[encoded data removed]",
      "text/plain": [
       "<Figure size 432x288 with 2 Axes>"
      ]
     },
     "metadata": {
      "needs_background": "light"
     },
     "output_type": "display_data"
    }
   ],
   "source": [
    "Q_final = np.zeros([BOARD_ROWS, BOARD_COLS])\n",
    "for i in range(BOARD_ROWS):\n",
    "    for j in range(BOARD_COLS):\n",
    "        u = (final_sidewalk[(i,j)]['up'] + final_obstacle[(i,j)]['up'] + final_litter[(i,j)]['up'])/3\n",
    "        d = (final_sidewalk[(i,j)]['down'] + final_obstacle[(i,j)]['down'] + final_litter[(i,j)]['down'])/3\n",
    "        l = (final_sidewalk[(i,j)]['left'] + final_obstacle[(i,j)]['left'] + final_litter[(i,j)]['left'])/3\n",
    "        r = (final_sidewalk[(i,j)]['right'] + final_obstacle[(i,j)]['right'] + final_litter[(i,j)]['right'])/3\n",
    "        \n",
    "        Q_final[i,j] = u\n",
    "        \n",
    "ax = sns.heatmap(hm)"
   ]
  },
  {
   "cell_type": "markdown",
   "metadata": {},
   "source": [
    "# Experiments - learning rate and reward"
   ]
  },
  {
   "cell_type": "code",
   "execution_count": 30,
   "metadata": {},
   "outputs": [],
   "source": [
    "BOARD_ROWS = 5\n",
    "BOARD_COLS = 8\n",
    "START = (1,0)\n",
    "DETERMINISTIC = False\n",
    "\n",
    "alpha = [0.2, 0.5, 0.7]\n",
    "reward = [1, 10, 100]\n",
    "rounds = [100, 1000, 2500]"
   ]
  },
  {
   "cell_type": "markdown",
   "metadata": {},
   "source": [
    "## Sidewalk Module Optimization"
   ]
  },
  {
   "cell_type": "code",
   "execution_count": 31,
   "metadata": {},
   "outputs": [
    {
     "name": "stdout",
     "output_type": "stream",
     "text": [
      "(1, 0)\n",
      "---------------------------------\n",
      "| - | - | - | - | - | - | - | - | \n",
      "---------------------------------\n",
      "| A | 0 | 0 | 0 | 0 | 0 | 0 | 1 | \n",
      "---------------------------------\n",
      "| 0 | 0 | 0 | 0 | 0 | 0 | 0 | 1 | \n",
      "---------------------------------\n",
      "| 0 | 0 | 0 | 0 | 0 | 0 | 0 | 1 | \n",
      "---------------------------------\n",
      "| - | - | - | - | - | - | - | - | \n",
      "---------------------------------\n",
      "None\n"
     ]
    }
   ],
   "source": [
    "random.seed(8)\n",
    "\n",
    "module = 'MOD_WALK'\n",
    "\n",
    "s = State(module=module)\n",
    "print(s.state)\n",
    "print(s.showBoard())"
   ]
  },
  {
   "cell_type": "code",
   "execution_count": 32,
   "metadata": {},
   "outputs": [
    {
     "name": "stdout",
     "output_type": "stream",
     "text": [
      "Game End Reward 0.0263\n",
      "\t\t with alpha 0.2 and rounds 100\n",
      "Game End Reward 0.2842\n",
      "\t\t with alpha 0.2 and rounds 1000\n",
      "Game End Reward 0.316\n",
      "\t\t with alpha 0.2 and rounds 2500\n",
      "Game End Reward 0.2586\n",
      "\t\t with alpha 0.5 and rounds 100\n",
      "Game End Reward 0.3441\n",
      "\t\t with alpha 0.5 and rounds 1000\n",
      "Game End Reward 0.3158\n",
      "\t\t with alpha 0.5 and rounds 2500\n",
      "Game End Reward 0.3373\n",
      "\t\t with alpha 0.7 and rounds 100\n",
      "Game End Reward 0.233\n",
      "\t\t with alpha 0.7 and rounds 1000\n",
      "Game End Reward 0.3051\n",
      "\t\t with alpha 0.7 and rounds 2500\n"
     ]
    }
   ],
   "source": [
    "random.seed(8)\n",
    "\n",
    "Q_sidewalk = []\n",
    "\n",
    "for a in alpha:  \n",
    "    for n in rounds:\n",
    "        agent = Agent(module=module, lr=a)\n",
    "        agent.play(n)\n",
    "        Q_sidewalk.append(agent.Q_values)\n",
    "        print(f'\\t\\t with alpha {a} and rounds {n}')"
   ]
  },
  {
   "cell_type": "code",
   "execution_count": 46,
   "metadata": {},
   "outputs": [
    {
     "data": {
      "image/png": "[encoded data removed]",
      "text/plain": [
       "<Figure size 1080x720 with 18 Axes>"
      ]
     },
     "metadata": {
      "needs_background": "light"
     },
     "output_type": "display_data"
    }
   ],
   "source": [
    "action = 'up'\n",
    "\n",
    "fig, axes = plt.subplots(3, 3, figsize=(15, 10), sharey=True)\n",
    "fig.suptitle(f'Q_Tables ({action}) for Sidewalk Module')\n",
    "\n",
    "A = [0.2,0.2,0.2, 0.5,0.5,0.5, 0.7,0.7,0.7]\n",
    "R = [100,1000,2500, 100,1000,2500, 100,1000,2500]\n",
    "\n",
    "for s in range(9):\n",
    "    hm = np.zeros([BOARD_ROWS, BOARD_COLS])\n",
    "    for i in range(BOARD_ROWS):\n",
    "        for j in range(BOARD_COLS):\n",
    "            hm[i,j] = Q_sidewalk[s][(i,j)][action]\n",
    "    sns.heatmap(hm, ax=axes.flat[s]).set_title(f'MOD_WALK: {R[s]} rounds - alpha {A[s]}')"
   ]
  },
  {
   "cell_type": "markdown",
   "metadata": {},
   "source": [
    "## Obstacle Optimization"
   ]
  },
  {
   "cell_type": "code",
   "execution_count": 34,
   "metadata": {},
   "outputs": [
    {
     "name": "stdout",
     "output_type": "stream",
     "text": [
      "(1, 0)\n",
      "---------------------------------\n",
      "| 0 | 0 | * | 0 | 0 | * | 0 | 0 | \n",
      "---------------------------------\n",
      "| A | 0 | 0 | 0 | * | 0 | * | 0 | \n",
      "---------------------------------\n",
      "| 0 | 0 | 0 | 0 | 0 | 0 | 0 | 0 | \n",
      "---------------------------------\n",
      "| 0 | 0 | 0 | 0 | 0 | 0 | 0 | 0 | \n",
      "---------------------------------\n",
      "| 0 | 0 | 0 | 0 | * | 0 | 0 | 0 | \n",
      "---------------------------------\n",
      "None\n"
     ]
    }
   ],
   "source": [
    "random.seed(8)\n",
    "\n",
    "module = 'MOD_AVOID'\n",
    "\n",
    "s = State(module=module)\n",
    "print(s.state)\n",
    "print(s.showBoard())"
   ]
  },
  {
   "cell_type": "code",
   "execution_count": 35,
   "metadata": {},
   "outputs": [
    {
     "name": "stdout",
     "output_type": "stream",
     "text": [
      "Game End Reward 0.2609\n",
      "\t\t with alpha 0.2 and reward -1\n",
      "Game End Reward 0.2611\n",
      "\t\t with alpha 0.2 and reward -10\n",
      "Game End Reward 0.3028\n",
      "\t\t with alpha 0.2 and reward -100\n",
      "Game End Reward 0.297\n",
      "\t\t with alpha 0.5 and reward -1\n",
      "Game End Reward 0.2647\n",
      "\t\t with alpha 0.5 and reward -10\n",
      "Game End Reward 0.3496\n",
      "\t\t with alpha 0.5 and reward -100\n",
      "Game End Reward 0.3416\n",
      "\t\t with alpha 0.7 and reward -1\n",
      "Game End Reward 0.3123\n",
      "\t\t with alpha 0.7 and reward -10\n",
      "Game End Reward 0.3199\n",
      "\t\t with alpha 0.7 and reward -100\n"
     ]
    }
   ],
   "source": [
    "random.seed(8)\n",
    "\n",
    "Q_obstacles = []\n",
    "\n",
    "for a in alpha:  \n",
    "    for r in reward:\n",
    "        R_obs = -r\n",
    "        agent = Agent(module=module, lr=a)\n",
    "        agent.play(n)\n",
    "        Q_obstacles.append(agent.Q_values)\n",
    "        print(f'\\t\\t with alpha {a} and reward {-r}')"
   ]
  },
  {
   "cell_type": "code",
   "execution_count": 47,
   "metadata": {},
   "outputs": [
    {
     "data": {
      "image/png": "[encoded data removed]",
      "text/plain": [
       "<Figure size 1080x720 with 18 Axes>"
      ]
     },
     "metadata": {
      "needs_background": "light"
     },
     "output_type": "display_data"
    }
   ],
   "source": [
    "fig, axes = plt.subplots(3, 3, figsize=(15, 10), sharey=True)\n",
    "fig.suptitle(f'Q_Tables ({action}) for Obstacle Module')\n",
    "\n",
    "A = [0.2,0.2,0.2, 0.5,0.5,0.5, 0.7,0.7,0.7]\n",
    "Re = [1,10,100, 1,10,100, 1,10,100]\n",
    "\n",
    "for s in range(9):\n",
    "    hm = np.zeros([BOARD_ROWS, BOARD_COLS])\n",
    "    for i in range(BOARD_ROWS):\n",
    "        for j in range(BOARD_COLS):\n",
    "            hm[i,j] = Q_obstacles[s][(i,j)][action]\n",
    "    sns.heatmap(hm, ax=axes.flat[s]).set_title(f'MOD_AVOID: alpha {A[s]} - reward {-Re[s]}')"
   ]
  },
  {
   "cell_type": "markdown",
   "metadata": {},
   "source": [
    "## Litter Optimization"
   ]
  },
  {
   "cell_type": "code",
   "execution_count": 37,
   "metadata": {},
   "outputs": [
    {
     "name": "stdout",
     "output_type": "stream",
     "text": [
      "(1, 0)\n",
      "---------------------------------\n",
      "| 0 | 0 | 0 | 0 | 0 | 0 | $ | 0 | \n",
      "---------------------------------\n",
      "| A | 0 | 0 | 0 | 0 | 0 | 0 | 0 | \n",
      "---------------------------------\n",
      "| 0 | 0 | 0 | 0 | $ | 0 | 0 | 0 | \n",
      "---------------------------------\n",
      "| 0 | $ | 0 | 0 | 0 | 0 | 0 | 0 | \n",
      "---------------------------------\n",
      "| 0 | 0 | 0 | $ | 0 | 0 | 0 | 0 | \n",
      "---------------------------------\n",
      "None\n"
     ]
    }
   ],
   "source": [
    "random.seed(8)\n",
    "\n",
    "module = 'MOD_PICKUP'\n",
    "\n",
    "s = State(module=module)\n",
    "print(s.state)\n",
    "print(s.showBoard())"
   ]
  },
  {
   "cell_type": "code",
   "execution_count": 38,
   "metadata": {},
   "outputs": [
    {
     "name": "stdout",
     "output_type": "stream",
     "text": [
      "Game End Reward 0.3058\n",
      "\t\t with alpha 0.2 and reward 1\n",
      "Game End Reward 0.294\n",
      "\t\t with alpha 0.2 and reward 10\n",
      "Game End Reward 0.2923\n",
      "\t\t with alpha 0.2 and reward 100\n",
      "Game End Reward 0.28\n",
      "\t\t with alpha 0.5 and reward 1\n",
      "Game End Reward 0.3394\n",
      "\t\t with alpha 0.5 and reward 10\n",
      "Game End Reward 0.2873\n",
      "\t\t with alpha 0.5 and reward 100\n",
      "Game End Reward 0.359\n",
      "\t\t with alpha 0.7 and reward 1\n",
      "Game End Reward 0.2666\n",
      "\t\t with alpha 0.7 and reward 10\n",
      "Game End Reward 0.3999\n",
      "\t\t with alpha 0.7 and reward 100\n"
     ]
    }
   ],
   "source": [
    "random.seed(8)\n",
    "\n",
    "Q_litter = []\n",
    "\n",
    "for a in alpha:  \n",
    "    for r in reward:\n",
    "        R_obs = r\n",
    "        agent = Agent(module=module, lr=a)\n",
    "        agent.play(n)\n",
    "        Q_litter.append(agent.Q_values)\n",
    "        print(f'\\t\\t with alpha {a} and reward {r}')"
   ]
  },
  {
   "cell_type": "code",
   "execution_count": 48,
   "metadata": {},
   "outputs": [
    {
     "data": {
      "image/png": "[encoded data removed]",
      "text/plain": [
       "<Figure size 1080x720 with 18 Axes>"
      ]
     },
     "metadata": {
      "needs_background": "light"
     },
     "output_type": "display_data"
    }
   ],
   "source": [
    "fig, axes = plt.subplots(3, 3, figsize=(15, 10), sharey=True)\n",
    "fig.suptitle(f'Q_Tables ({action}) for Litter Module')\n",
    "\n",
    "A = [0.2,0.2,0.2, 0.5,0.5,0.5, 0.7,0.7,0.7]\n",
    "Re = [1,10,100, 1,10,100, 1,10,100]\n",
    "\n",
    "for s in range(9):\n",
    "    hm = np.zeros([BOARD_ROWS, BOARD_COLS])\n",
    "    for i in range(BOARD_ROWS):\n",
    "        for j in range(BOARD_COLS):\n",
    "            hm[i,j] = Q_litter[s][(i,j)][action]\n",
    "    sns.heatmap(hm, ax=axes.flat[s]).set_title(f'MOD_PICKUP: alpha {A[s]} - reward {Re[s]}')"
   ]
  },
  {
   "cell_type": "code",
   "execution_count": 51,
   "metadata": {},
   "outputs": [
    {
     "data": {
      "image/png": "[encoded data removed]",
      "text/plain": [
       "<Figure size 432x288 with 2 Axes>"
      ]
     },
     "metadata": {
      "needs_background": "light"
     },
     "output_type": "display_data"
    }
   ],
   "source": [
    "action = 'up'\n",
    "Q_final = np.zeros([BOARD_ROWS, BOARD_COLS])\n",
    "for i in range(BOARD_ROWS):\n",
    "    for j in range(BOARD_COLS):\n",
    "        a = (Q_sidewalk[4][(i,j)][action] + Q_obstacles[5][(i,j)][action] + Q_litter[8][(i,j)][action])/3        \n",
    "        Q_final[i,j] = a\n",
    "        \n",
    "ax = sns.heatmap(hm)"
   ]
  }
 ],
 "metadata": {
  "kernelspec": {
   "display_name": "Python 3",
   "language": "python",
   "name": "python3"
  },
  "language_info": {
   "codemirror_mode": {
    "name": "ipython",
    "version": 3
   },
   "file_extension": ".py",
   "mimetype": "text/x-python",
   "name": "python",
   "nbconvert_exporter": "python",
   "pygments_lexer": "ipython3",
   "version": "3.8.3"
  }
 },
 "nbformat": 4,
 "nbformat_minor": 4
}
